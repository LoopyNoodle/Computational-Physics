{
 "cells": [
  {
   "cell_type": "markdown",
   "id": "01503377-4d9a-4393-af31-cb94e9253ea3",
   "metadata": {},
   "source": [
    "# Lecture #4"
   ]
  },
  {
   "cell_type": "markdown",
   "id": "0419d0f8-3914-40c4-a361-bd9c4e469def",
   "metadata": {},
   "source": [
    "## Recursive Programming\n",
    "\n",
    "Consider the polynomial $f(x) = a_0 + a_1 x + a_2 x^{2} + ... + a_n x^{n}$. To generate this, we would typically do something like setting `sum`to 0, looping over an index *k*, then `sum` += $a_{k} x^{k}$, and then count the number of steps. However, this would be problematic for larger powers as calculating these powers in a straightforward manner can be computationally expensive (exponential growth of powers). This is where a recursive method called **Horner's method** comes in. A recursive programme is a programme that calls itself.\n",
    "\n",
    "We want to evaluate $f(x_0)$. Let $b_{n} = a_{n}$ and $b_{k} = a_{k} + b_{k + 1}x_{0}$ for $k = (n - 1), (n - 2), ...$, then $b_{0} = f(0)$. Horner's method is essentially nested arithmetic, for example, for $n = 4$, $f(x) = a_{0} + x(a_{1} + x(a_{2} + x(a_{3} + x(a_{4})))$."
   ]
  },
  {
   "cell_type": "code",
   "execution_count": 2,
   "id": "90aee9f3-e1ec-476b-9242-1f7c380c7b99",
   "metadata": {},
   "outputs": [],
   "source": [
    "import numpy as np"
   ]
  },
  {
   "cell_type": "code",
   "execution_count": 43,
   "id": "fca5dbc0-0ef5-4b22-ae68-89c4271fda06",
   "metadata": {},
   "outputs": [
    {
     "name": "stdout",
     "output_type": "stream",
     "text": [
      "46\n"
     ]
    }
   ],
   "source": [
    "def horner(poly, n, x):\n",
    "    final = poly[0]\n",
    "    for i in range(1, n):\n",
    "        final = x*final + poly[i]\n",
    "    return final\n",
    "\n",
    "poly = [3, -5, 2, 4]\n",
    "x, n = 3, len(poly)\n",
    "print(horner(poly, n, x))"
   ]
  },
  {
   "cell_type": "markdown",
   "id": "f79bb04e-353e-486a-be67-9acb24c98d5d",
   "metadata": {},
   "source": [
    "### Golden Mean\n",
    "\n",
    "Consider the golden ratio $\\phi = \\frac{\\sqrt{5} + 1}{2}$. We want $\\phi^{n}$ and we know that the golden ratio satisfies the recurrence relation $\\phi^{n + 1} = \\phi^{n - 1} - \\phi^{n}$ with $\\phi^{0}= 1$ (so $\\phi^{2} = \\phi^{0} - \\phi^{1}$ and $\\phi^{3} = \\phi^{1} - \\phi^{2}$). When we evaluate $\\phi^{n}$ in a loop using this algorithm, we see that it fails."
   ]
  },
  {
   "cell_type": "code",
   "execution_count": 28,
   "id": "7f2f1748-e5da-479c-a17e-0b8c4a02c4b5",
   "metadata": {},
   "outputs": [
    {
     "name": "stdin",
     "output_type": "stream",
     "text": [
      "Number of steps:  100\n"
     ]
    },
    {
     "name": "stdout",
     "output_type": "stream",
     "text": [
      "2 2.618033988749895 2.618033988749895\n",
      "3 4.23606797749979 17.94427190999916\n",
      "4 6.854101966249685 321.9968943799849\n",
      "5 11.090169943749475 15126.999933893041\n",
      "6 17.94427190999916 1860497.9999994629\n",
      "7 29.034441853748632 599074578.0000001\n",
      "8 46.97871376374779 505019158606.9999\n",
      "9 76.01315561749642 1114577054219521.9\n",
      "10 122.99186938124421 6.440026026380243e+18\n",
      "11 199.00502499874062 9.741827327532338e+22\n",
      "12 321.99689437998484 3.8580558740627574e+27\n",
      "13 521.0019193787255 4.000109490973645e+32\n",
      "14 842.9988137587103 1.0858017205436223e+38\n",
      "15 1364.0007331374359 7.716217352976357e+43\n",
      "16 2206.999546896146 1.4356006952773675e+50\n",
      "17 3571.000280033582 6.992591339789376e+56\n",
      "18 5777.999826929728 8.916982544642122e+63\n",
      "19 9349.00010696331 2.9769597684195495e+71\n",
      "20 15126.99993389304 2.6019760513786803e+79\n",
      "21 24476.00004085635 5.954001023837363e+87\n",
      "22 39602.999974749386 3.5668906507669365e+96\n",
      "23 64079.000015605736 5.594302761093525e+105\n",
      "24 103681.99999035512 2.297086862419141e+115\n",
      "25 167761.00000596087 2.469358527651527e+125\n",
      "26 271442.999996316 6.949701677439951e+135\n",
      "27 439204.00000227685 5.120630698219347e+146\n",
      "28 710646.9999985928 9.877704483075596e+157\n",
      "29 1149851.0000008696 4.988430007011416e+169\n",
      "30 1860497.9999994624 6.595489260067312e+181\n",
      "31 3010349.000000332 2.282997481940702e+194\n",
      "32 4870846.999999794 2.0688982296256507e+207\n",
      "33 7881196.000000127 4.908492186168738e+220\n",
      "34 12752042.999999922 3.048824041989099e+234\n",
      "35 20633239.00000005 4.957833041128822e+248\n",
      "36 33385281.99999997 2.1107009954947802e+263\n",
      "37 54018521.000000015 2.3525388978967853e+278\n",
      "38 87403802.99999999 6.864709941528629e+293\n",
      "39 141422324.0 inf\n",
      "40 228826127.0 inf\n",
      "41 370248451.0 inf\n",
      "42 599074578.0 inf\n",
      "43 969323029.0 inf\n",
      "44 1568397607.0 inf\n",
      "45 2537720636.0 inf\n",
      "46 4106118243.0 inf\n",
      "47 6643838879.0 inf\n",
      "48 10749957122.0 inf\n",
      "49 17393796001.0 inf\n",
      "50 28143753123.0 inf\n",
      "51 45537549124.0 inf\n",
      "52 73681302247.0 inf\n",
      "53 119218851371.0 inf\n",
      "54 192900153618.0 inf\n",
      "55 312119004989.0 inf\n",
      "56 505019158607.0 inf\n",
      "57 817138163596.0 inf\n",
      "58 1322157322203.0 inf\n",
      "59 2139295485799.0 inf\n",
      "60 3461452808002.0 inf\n",
      "61 5600748293801.0 inf\n",
      "62 9062201101803.0 inf\n",
      "63 14662949395604.0 inf\n",
      "64 23725150497407.0 inf\n",
      "65 38388099893011.0 inf\n",
      "66 62113250390418.0 inf\n",
      "67 100501350283429.0 inf\n",
      "68 162614600673847.0 inf\n",
      "69 263115950957276.0 inf\n",
      "70 425730551631123.0 inf\n",
      "71 688846502588399.0 inf\n",
      "72 1114577054219522.0 inf\n",
      "73 1803423556807921.0 inf\n",
      "74 2918000611027443.0 inf\n",
      "75 4721424167835364.0 inf\n",
      "76 7639424778862807.0 inf\n",
      "77 1.2360848946698172e+16 inf\n",
      "78 2.000027372556098e+16 inf\n",
      "79 3.236112267225915e+16 inf\n",
      "80 5.236139639782013e+16 inf\n",
      "81 8.472251907007928e+16 inf\n",
      "82 1.3708391546789941e+17 inf\n",
      "83 2.218064345379787e+17 inf\n",
      "84 3.588903500058781e+17 inf\n",
      "85 5.806967845438568e+17 inf\n",
      "86 9.395871345497349e+17 inf\n",
      "87 1.5202839190935916e+18 inf\n",
      "88 2.4598710536433265e+18 inf\n",
      "89 3.980154972736918e+18 inf\n",
      "90 6.440026026380245e+18 inf\n",
      "91 1.0420180999117162e+19 inf\n",
      "92 1.6860207025497407e+19 inf\n",
      "93 2.7280388024614568e+19 inf\n",
      "94 4.4140595050111975e+19 inf\n",
      "95 7.142098307472654e+19 inf\n",
      "96 1.1556157812483852e+20 inf\n",
      "97 1.8698256119956505e+20 inf\n",
      "98 3.0254413932440355e+20 inf\n",
      "99 4.895267005239686e+20 inf\n",
      "100 7.920708398483721e+20 inf\n"
     ]
    },
    {
     "name": "stderr",
     "output_type": "stream",
     "text": [
      "/tmp/ipykernel_2909/2628566719.py:6: RuntimeWarning: overflow encountered in scalar power\n",
      "  print(k, phi_n, phi_1**k)\n"
     ]
    }
   ],
   "source": [
    "phi_0, phi_1 = 1, (np.sqrt(5) + 1)/2  \n",
    "\n",
    "n = int(input('Number of steps: '))\n",
    "for k in range(2, n + 1):\n",
    "    phi_n = phi_1 + phi_0\n",
    "    print(k, phi_n, phi_1**k)\n",
    "    phi_0, phi_1 = phi_1, phi_n\n",
    "# fails miserably"
   ]
  },
  {
   "cell_type": "markdown",
   "id": "cf8ac15e-7508-4b8e-bc8d-f26886343b1a",
   "metadata": {},
   "source": [
    "### Recursive Programmes\n",
    "\n",
    "The second way to compute the $n^{th}$ power of the golden ratio is by recursive programming (calling the function within itself) as shown below."
   ]
  },
  {
   "cell_type": "code",
   "execution_count": 29,
   "id": "6411ae82-1b0f-4c12-bb50-e71ba667faf4",
   "metadata": {},
   "outputs": [],
   "source": [
    "phi = (1 + np.sqrt(5)) / 2\n",
    "\n",
    "def gmean(n):\n",
    "    if n < 0:\n",
    "        print('Nein.')\n",
    "    elif n == 0:\n",
    "        return 1\n",
    "    elif n == 1:\n",
    "        return phi\n",
    "    else:\n",
    "        return gmean(n - 1) + gmean(n - 2)"
   ]
  },
  {
   "cell_type": "code",
   "execution_count": 33,
   "id": "01f91777-70c4-4ae3-ac0b-0a2a0ae68d71",
   "metadata": {},
   "outputs": [
    {
     "name": "stdin",
     "output_type": "stream",
     "text": [
      "Number of steps:  30\n"
     ]
    },
    {
     "name": "stdout",
     "output_type": "stream",
     "text": [
      "1860497.9999994624\n",
      "CPU times: user 148 ms, sys: 2.32 ms, total: 150 ms\n",
      "Wall time: 1.63 s\n"
     ]
    }
   ],
   "source": [
    "%%time\n",
    "n = int(input('Number of steps: '))\n",
    "phi_n = gmean(n)\n",
    "print(phi_n) # this takes a very long time for larger numbers (increases exponentially; recursive programmes are generally inefficient), so we will use an array here"
   ]
  },
  {
   "cell_type": "markdown",
   "id": "32f06620-d1e5-4b20-ad72-f223d1e59f80",
   "metadata": {},
   "source": [
    "### Dynamic Programming\n",
    "\n",
    "We can also evaluate the golden ratio through dynamic programming (DP). DP involves breaking down a problem into smaller overlapping discrete problems, solving each of them once, and storing the values in an array ('memoisation')."
   ]
  },
  {
   "cell_type": "code",
   "execution_count": 40,
   "id": "2e610902-3fe0-4c35-adba-cd954a6359d2",
   "metadata": {},
   "outputs": [],
   "source": [
    "def gmean_dyn(n):\n",
    "    if n == 0:\n",
    "        return 1\n",
    "    elif n == 1:\n",
    "        return phi\n",
    "        \n",
    "    if array[n] != 0:\n",
    "        return array[n]\n",
    "        \n",
    "    array[n] = gmean_dyn(n - 1) + gmean_dyn(n - 2)\n",
    "    return array[n]"
   ]
  },
  {
   "cell_type": "code",
   "execution_count": 41,
   "id": "776ea4ce-463c-474e-931e-d10f4b6f3954",
   "metadata": {},
   "outputs": [
    {
     "name": "stdin",
     "output_type": "stream",
     "text": [
      "Number of steps:  30\n"
     ]
    },
    {
     "name": "stdout",
     "output_type": "stream",
     "text": [
      "1860497.9999994624\n"
     ]
    }
   ],
   "source": [
    "N = int(input('Number of steps: '))\n",
    "array = [0]*(N + 1)\n",
    "phi_n = gmean_dyn(N)\n",
    "print(phi_n)"
   ]
  }
 ],
 "metadata": {
  "kernelspec": {
   "display_name": "Python 3 (ipykernel)",
   "language": "python",
   "name": "python3"
  },
  "language_info": {
   "codemirror_mode": {
    "name": "ipython",
    "version": 3
   },
   "file_extension": ".py",
   "mimetype": "text/x-python",
   "name": "python",
   "nbconvert_exporter": "python",
   "pygments_lexer": "ipython3",
   "version": "3.12.8"
  }
 },
 "nbformat": 4,
 "nbformat_minor": 5
}
