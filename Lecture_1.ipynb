{
 "cells": [
  {
   "cell_type": "markdown",
   "id": "a3e3325f-457e-4e9d-aba7-01c636720300",
   "metadata": {},
   "source": [
    "# Lecture 1"
   ]
  },
  {
   "cell_type": "markdown",
   "id": "d0bddef5-8c3f-40a8-8bfc-c8afe0e317b9",
   "metadata": {},
   "source": [
    "## Problem 1: Know your Computer\n",
    "\n",
    "Find out about the following for your computer:\n",
    "1. ELF\n",
    "2. Endian \n",
    "3. 64-bit?\n",
    "\n",
    "<hr>\n",
    "\n",
    "In base 10, we typically write numbers as $n = \\sum_{p = 0}^{j} a_{p} \\times 10^{p}$. For binary, we will have base 2, $n = \\sum_{p = 0}^{j} a_{p} \\times 2^{p}$. So, 2 $(1 \\times 2^{1} + 1 \\times 2^{0})$ will be 10, 4 $(1 \\times 2^{2} + 0 \\times 2^{1} + 0 \\times 2^{0})$ will be 100, 8 will be 1000 and so on. \n",
    "\n",
    "Consider 8 bits, the first bit on the left (most significant bit or parity bit) is the sign bit $(-1)^{s}$, with $s$ being the state of the most significant bit. So, in the programme below, until 63 bits, we have the numbers until $2^{63}$ stored as positive (in binary, 1000000.....). However, once we reach the 64$^{\\text{th}}$ bit, the state of the most significant bit becomes 1 instead of zero, so the sign changes and we get a negative number."
   ]
  },
  {
   "cell_type": "code",
   "execution_count": 1,
   "id": "669b835d-8231-45f1-9f3b-8842d68ef5c1",
   "metadata": {},
   "outputs": [],
   "source": [
    "import numpy as np"
   ]
  },
  {
   "cell_type": "code",
   "execution_count": 2,
   "id": "4c6c7091-84c0-4cf4-a86f-b32805701210",
   "metadata": {},
   "outputs": [],
   "source": [
    "j = np.int64(1)"
   ]
  },
  {
   "cell_type": "code",
   "execution_count": 3,
   "id": "9267e686-24bd-464f-a49d-afbf0fc29bd4",
   "metadata": {},
   "outputs": [
    {
     "name": "stdout",
     "output_type": "stream",
     "text": [
      "1 2\n",
      "2 4\n",
      "3 8\n",
      "4 16\n",
      "5 32\n",
      "6 64\n",
      "7 128\n",
      "8 256\n",
      "9 512\n",
      "10 1024\n",
      "11 2048\n",
      "12 4096\n",
      "13 8192\n",
      "14 16384\n",
      "15 32768\n",
      "16 65536\n",
      "17 131072\n",
      "18 262144\n",
      "19 524288\n",
      "20 1048576\n",
      "21 2097152\n",
      "22 4194304\n",
      "23 8388608\n",
      "24 16777216\n",
      "25 33554432\n",
      "26 67108864\n",
      "27 134217728\n",
      "28 268435456\n",
      "29 536870912\n",
      "30 1073741824\n",
      "31 2147483648\n",
      "32 4294967296\n",
      "33 8589934592\n",
      "34 17179869184\n",
      "35 34359738368\n",
      "36 68719476736\n",
      "37 137438953472\n",
      "38 274877906944\n",
      "39 549755813888\n",
      "40 1099511627776\n",
      "41 2199023255552\n",
      "42 4398046511104\n",
      "43 8796093022208\n",
      "44 17592186044416\n",
      "45 35184372088832\n",
      "46 70368744177664\n",
      "47 140737488355328\n",
      "48 281474976710656\n",
      "49 562949953421312\n",
      "50 1125899906842624\n",
      "51 2251799813685248\n",
      "52 4503599627370496\n",
      "53 9007199254740992\n",
      "54 18014398509481984\n",
      "55 36028797018963968\n",
      "56 72057594037927936\n",
      "57 144115188075855872\n",
      "58 288230376151711744\n",
      "59 576460752303423488\n",
      "60 1152921504606846976\n",
      "61 2305843009213693952\n",
      "62 4611686018427387904\n",
      "63 -9223372036854775808\n",
      "64 0\n",
      "65 0\n"
     ]
    },
    {
     "name": "stderr",
     "output_type": "stream",
     "text": [
      "/tmp/ipykernel_4567/2809919641.py:3: RuntimeWarning: overflow encountered in scalar multiply\n",
      "  j *= 2\n"
     ]
    }
   ],
   "source": [
    "n = 1\n",
    "while n < 66:\n",
    "    j *= 2\n",
    "    print(n, j)\n",
    "    n += 1"
   ]
  },
  {
   "cell_type": "markdown",
   "id": "9212e8ac-a63b-4092-aaad-4fee0a57525e",
   "metadata": {},
   "source": [
    "When we have 1000000 ($2^7$ in binary), multiplying by 2 pushes the 1 forward and gives us a minus sign. However, we do not get a 0 (and we'll see why). After that, we cannot push 1 any further as there are no bits left, so we end up with zeros\n",
    "\n",
    "Fun fact: Zero has two binary representations -- 10000000 (-0) and 00000000 (+0) (\"This is wasted space\"). So instead, if the parity bit is 1, we first find the complement with respect to 1, i.e., flip $1 \\to 0$ or $0 \\to 1$ (except for the parity bit) and evaluate the number. Then we add 1 and our final integer is $(-1) \\times (\\text{number } + 1)$. This is exactly how negative numbers are read. They are flipped in order and what should have been -127 becomes -1. "
   ]
  },
  {
   "cell_type": "code",
   "execution_count": 4,
   "id": "5850ba80-2589-4810-b3e7-1ccafceeda86",
   "metadata": {},
   "outputs": [
    {
     "name": "stdout",
     "output_type": "stream",
     "text": [
      "little\n"
     ]
    }
   ],
   "source": [
    "from sys import byteorder\n",
    "print(byteorder)"
   ]
  },
  {
   "cell_type": "markdown",
   "id": "99f444fe-e2fe-4975-8c99-56703973886e",
   "metadata": {},
   "source": [
    "Here, 'little' refers to little Endian. ***Endianness*** refers to the order in which bytes are arranged in memory. If one computer reads from left to right and another reads from right to left, there might be problems when the two computers want to communicate. Little Endian means that the computer stores the least significant bit first (first byte is the smallest) and goes from right to left. Big Endian, on the other hand, is the opposite."
   ]
  },
  {
   "cell_type": "markdown",
   "id": "03afb5a8-6458-4434-898e-eb7511573299",
   "metadata": {},
   "source": [
    "## Problem 2: Base Conversion\n",
    "Write a programme to convert a binary number to decimal and back. Generalise this for any base with the base as the input."
   ]
  },
  {
   "cell_type": "markdown",
   "id": "cee8680b-4c64-43fa-b01c-3fe66850af3f",
   "metadata": {},
   "source": [
    "### Decimal to Binary Algorithm\n",
    "\n",
    "1. **Initialise an empty list** `rem` to store the remainders.\n",
    "2. **Loop to divide the decimal number** by 2 repeatedly:\n",
    "    - Calculate the remainder when dividing by 2 (`dec % 2`), and append it to the `rem` list.\n",
    "    - Update the decimal number by floor dividing by by 2 (`dec //= 2`).\n",
    "3. **Reverse the remainder list** to get the binary digits in the correct order.\n",
    "4. **Return the binary representation** by joining the elements of the reversed list as a string."
   ]
  },
  {
   "cell_type": "code",
   "execution_count": 5,
   "id": "66b35c2d-cba9-4c7a-8184-2ac65b5c8da6",
   "metadata": {},
   "outputs": [
    {
     "name": "stdout",
     "output_type": "stream",
     "text": [
      "1010111\n"
     ]
    }
   ],
   "source": [
    "def dec_bin(dec):\n",
    "    rem = []\n",
    "    while dec > 0:\n",
    "        remnum = dec % 2\n",
    "        rem.append(remnum)\n",
    "        dec //= 2\n",
    "    bin = []\n",
    "    while rem:\n",
    "        bin.append(str(rem.pop()))\n",
    "    return ''.join(bin)\n",
    "\n",
    "print(dec_bin(87))"
   ]
  },
  {
   "cell_type": "markdown",
   "id": "009bc391-fdc7-4d88-9a12-c8a0f687b7aa",
   "metadata": {},
   "source": [
    "### Binary to Decimal Algorithm\n",
    "\n",
    "1. **Initialise `bin_num` to 0** to store the result and `count` to 0 to keep track of the current binary digit's position.\n",
    "2. **Loop through the binary number** (converted to a string):\n",
    "    - Reverse the string to process from the least to the most significant bit.\n",
    "    - For each digit, multiply it by $2^{\\text{count}}$ (corresponding power of 2) and add the result to `bin_num`.\n",
    "    - Increase `count` after each iteration to move to the next higher power of 2.\n",
    "3. **Return the decimal result** stored in `bin_num`."
   ]
  },
  {
   "cell_type": "code",
   "execution_count": 6,
   "id": "18a3ed97-b2dd-4724-be64-e06e60c67cc3",
   "metadata": {},
   "outputs": [
    {
     "name": "stdout",
     "output_type": "stream",
     "text": [
      "87\n"
     ]
    }
   ],
   "source": [
    "def bin_dec(binary):\n",
    "    bin_num, count = 0, 0\n",
    "    for i in str(binary)[::-1]:\n",
    "        bin_num += int(i)*(2**count)\n",
    "        count += 1\n",
    "    return bin_num\n",
    "\n",
    "print(bin_dec(1010111))"
   ]
  },
  {
   "cell_type": "markdown",
   "id": "b1e5f00e-e829-490b-af48-23b5781a086c",
   "metadata": {},
   "source": [
    "### Generalised for All Bases\n",
    "\n",
    "The algorithm for this is roughly the same as the one for decimal to binary."
   ]
  },
  {
   "cell_type": "code",
   "execution_count": 7,
   "id": "00750e58-e9d7-46ce-8b8f-0781a7e85326",
   "metadata": {},
   "outputs": [
    {
     "name": "stdout",
     "output_type": "stream",
     "text": [
      "1010111\n"
     ]
    }
   ],
   "source": [
    "def base_conv(num, base):\n",
    "    rem = []\n",
    "    while num > 0:\n",
    "        remnum = num % base\n",
    "        rem.append(remnum)\n",
    "        num //= base \n",
    "    new = []\n",
    "    while rem:\n",
    "        new.append(str(rem.pop()))\n",
    "    return ''.join(new)\n",
    "\n",
    "print(base_conv(87, 2))"
   ]
  },
  {
   "cell_type": "markdown",
   "id": "c4fe6d67-14a8-417f-8c51-b9265a24d9db",
   "metadata": {},
   "source": [
    "### Some general rules for programmers:\n",
    "\n",
    "1. Do not trust all the digits!\n",
    "2. The smallest precision determines the overall precision. If a programme is truncating $\\sqrt{2}$ to 1.414, everything else should only be taken to a precision of 3 digits after the decimal point.\n",
    "3. Perform all computations in the highest precision mode and truncate only at the very end. "
   ]
  },
  {
   "cell_type": "markdown",
   "id": "0fa60ff3-b84b-405f-ad07-ad64ca37b454",
   "metadata": {},
   "source": [
    "### More Generalisation for Base Conversion: Converting Floating Point to Binary"
   ]
  },
  {
   "cell_type": "code",
   "execution_count": 8,
   "id": "5cbe65a3-a18e-48e2-b310-1ee1bc94d824",
   "metadata": {},
   "outputs": [],
   "source": [
    "def dec_to_binfloat(num):\n",
    "    # index = []\n",
    "    # integer = int(np.floor(np.abs(num))) # part before the decimal point\n",
    "    # index = list(dec_bin(integer)) # binary version of integer part\n",
    "    # index.append('.') # decimal point\n",
    "\n",
    "    # if num >= 0:\n",
    "    #     index.insert(0, '0')\n",
    "    # elif num < 0:\n",
    "    #     index.insert(0, '1') # parity bit\n",
    "\n",
    "    # decpt = np.abs(num) - np.floor(np.abs(num)) # part after decimal point\n",
    "    \n",
    "    # for i in range(65 - len(index)): # entire thing is 64 bits including the separator\n",
    "    #     if decpt >= 2 ** (-i): # if greater than that power of 2, update with 1 and subtract to update\n",
    "    #         index.append('1') \n",
    "    #         decpt -= 2 ** (-i) \n",
    "    #     elif decpt < 2**-i: # if the power of 2 is larger, update with 0 \n",
    "    #         index.append('0')\n",
    "            \n",
    "    # return ''.join(index)\n",
    "\n",
    "    sign = '0' if num >= 0 else '1'\n",
    "    num = np.abs(num)\n",
    "    \n",
    "    int_part = int(np.floor(num))\n",
    "    int_bin = np.binary_repr(int_part)  # binary string version of integer part\n",
    "\n",
    "    frac_part = num - int_part # part after decimal point\n",
    "    frac_bin = []\n",
    "\n",
    "    while frac_part and len(frac_bin) < 23:  # mantissa --> 23 bits\n",
    "        frac_part *= 2\n",
    "        bit = int(frac_part)\n",
    "        frac_bin.append(str(bit))\n",
    "        frac_part -= bit\n",
    "\n",
    "    # scientific notation\n",
    "    if int_bin != '0':  \n",
    "        exp = len(int_bin) - 1  # shifting exponent\n",
    "        mant = int_bin[1:] + ''.join(frac_bin)  # removing leading 1\n",
    "    else:\n",
    "        # when integer part is 0\n",
    "        exp = -frac_bin.index('1') - 1\n",
    "        mant = ''.join(frac_bin)[frac_bin.index('1') + 1:]\n",
    "\n",
    "    exp += 127 # bias for single-precision\n",
    "    exp_bin = np.binary_repr(exp, width = 8)  # converting exponent to 8 bits\n",
    "    \n",
    "    mant = mant.ljust(23, '0')[:23] # to ensure that the mantissa is just 23 bits\n",
    "    \n",
    "    binfloat = sign + exp_bin + mant\n",
    "    \n",
    "    return binfloat"
   ]
  },
  {
   "cell_type": "code",
   "execution_count": 9,
   "id": "8ba15c49-8f02-430a-b1f1-44a94c4bb5d3",
   "metadata": {},
   "outputs": [
    {
     "name": "stdout",
     "output_type": "stream",
     "text": [
      "11000000010010001111010111000010\n"
     ]
    }
   ],
   "source": [
    "print(dec_to_binfloat(-3.14))"
   ]
  },
  {
   "cell_type": "markdown",
   "id": "8fbe6aca-9fb2-42d0-94b7-f9780497e83c",
   "metadata": {},
   "source": [
    "### Converting a Decimal Floating Point to Any Base"
   ]
  },
  {
   "cell_type": "code",
   "execution_count": 10,
   "id": "e84cf61f-273d-4dc2-93ea-0216056fe6ef",
   "metadata": {},
   "outputs": [],
   "source": [
    "def dec_any(num, base, prec = 10):\n",
    "    if base < 2 or base > 36:\n",
    "        print('Base must be between 2 and 36')\n",
    "\n",
    "    sign = '-' if num < 0 else ''\n",
    "    num = abs(num)\n",
    "\n",
    "    # integer part\n",
    "    int_part = int(num)\n",
    "    int_str = ''\n",
    "    if int_part == 0:\n",
    "        int_str = '0'\n",
    "    else:\n",
    "        while int_part > 0:\n",
    "            rem = int_part % base\n",
    "            int_str = (str(rem) if rem < 10 else chr(55 + rem)) + int_str\n",
    "            int_part //= base\n",
    "\n",
    "    # fractional part\n",
    "    frac_part = num - int(num)\n",
    "    frac_str = ''\n",
    "    while frac_part > 0 and len(frac_str) < prec:\n",
    "        frac_part *= base\n",
    "        digit = int(frac_part)\n",
    "        frac_str += str(digit) if digit < 10 else chr(55 + digit)\n",
    "        frac_part -= digit\n",
    "        if frac_part == 0:\n",
    "            break\n",
    "\n",
    "    return sign + int_str + ('.' + frac_str if frac_str else '')"
   ]
  },
  {
   "cell_type": "code",
   "execution_count": 11,
   "id": "31aebcd9-947b-4969-a1ae-c586d88be8fc",
   "metadata": {},
   "outputs": [
    {
     "name": "stdout",
     "output_type": "stream",
     "text": [
      "-100.01\n",
      "4.2\n",
      "3.23D70\n"
     ]
    }
   ],
   "source": [
    "print(dec_any(-4.25, 2, 5)) # bin\n",
    "print(dec_any(4.25, 8, 5))  # octal\n",
    "print(dec_any(3.14, 16, 5)) # hexadecimal"
   ]
  }
 ],
 "metadata": {
  "kernelspec": {
   "display_name": "Python 3 (ipykernel)",
   "language": "python",
   "name": "python3"
  },
  "language_info": {
   "codemirror_mode": {
    "name": "ipython",
    "version": 3
   },
   "file_extension": ".py",
   "mimetype": "text/x-python",
   "name": "python",
   "nbconvert_exporter": "python",
   "pygments_lexer": "ipython3",
   "version": "3.12.8"
  }
 },
 "nbformat": 4,
 "nbformat_minor": 5
}
