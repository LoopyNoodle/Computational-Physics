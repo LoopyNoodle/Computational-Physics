{
 "cells": [
  {
   "cell_type": "markdown",
   "id": "e9d1fa67-c7c6-4fbb-860b-e77e691f234f",
   "metadata": {},
   "source": [
    "# Lecture 2"
   ]
  },
  {
   "cell_type": "markdown",
   "id": "1c8599e8-722f-4a97-86db-162f7aed142f",
   "metadata": {},
   "source": [
    "In the second part of the code below, we do not get the expected value for $x$. Even when we do some simple calculation like $3/10 \\approx 0.3333...$, how far do we go? When we have floating point numbers, the idea of equality is invalid. In binary notation, a number like 0.125 would be truncated.\n",
    "So we have $0 + \\frac{a_1}{2} + \\frac{a_2}{2^{2}} + \\frac{a_3}{2^{3}} + ...$, where $a_1 = 0$, $a_2 = 0$, $a_3 = 1$ etc. Thus, in binary notation, we would have 0.0010000, but 0.3 cannot be represented easily and we get something like 0.1000...9\n",
    "\n",
    "## Problem 3: Round-off problems\n",
    "\n",
    "Execute the following: \n",
    "1. 1.101 + 1.1 - 2.2\n",
    "2. Define `x = 0.3`, `y = 0.1 * 3`, and `print(x, y, x - y)`\n",
    "3. Define `x = sqrt(2)`, `y = 1 + sqrt(2) * 10**(-14)`, `z = (y - x) * 10**(14)`, and `print(x, y, y - x, z)`"
   ]
  },
  {
   "cell_type": "code",
   "execution_count": 2,
   "id": "6250d06f-7d9e-4a85-a6f0-5ae2d77b163e",
   "metadata": {},
   "outputs": [
    {
     "name": "stdout",
     "output_type": "stream",
     "text": [
      "2.201\n"
     ]
    }
   ],
   "source": [
    "print(1.101 - 1.1 + 2.2)"
   ]
  },
  {
   "cell_type": "code",
   "execution_count": 3,
   "id": "fe3a38c4-b1c5-43c0-8a1a-55c949b635d3",
   "metadata": {},
   "outputs": [
    {
     "name": "stdout",
     "output_type": "stream",
     "text": [
      "0.3 0.30000000000000004 -5.551115123125783e-17\n"
     ]
    }
   ],
   "source": [
    "x, y = 0.3, 0.1 * 3\n",
    "print(x, y, x - y)"
   ]
  },
  {
   "cell_type": "code",
   "execution_count": 3,
   "id": "918c71c6-f057-4274-94da-d3ba19b45673",
   "metadata": {},
   "outputs": [
    {
     "name": "stdout",
     "output_type": "stream",
     "text": [
      "5.551115123125783e-17 0.0\n"
     ]
    }
   ],
   "source": [
    "x, y = (0.1*3) - 0.3, (0.125*3) - 0.375\n",
    "print(x, y)"
   ]
  },
  {
   "cell_type": "markdown",
   "id": "a85fbddf-e8c0-4a35-98be-378a0670333d",
   "metadata": {},
   "source": [
    "### Is $\\sqrt{2}$ irrational?"
   ]
  },
  {
   "cell_type": "code",
   "execution_count": 6,
   "id": "cd3df2f3-6b19-490f-bd90-79b8a3e9ff0e",
   "metadata": {},
   "outputs": [],
   "source": [
    "import numpy as np"
   ]
  },
  {
   "cell_type": "code",
   "execution_count": 7,
   "id": "8657aa32-88d1-4a45-b0bc-5e57505409b8",
   "metadata": {},
   "outputs": [
    {
     "name": "stdout",
     "output_type": "stream",
     "text": [
      "1 1.0000000000000142 1.4210854715202004e-14 1.4142135623730951\n"
     ]
    }
   ],
   "source": [
    "x, y = 1, 1 + (1e-14)*(np.sqrt(2))\n",
    "print(x, y, y - x, np.sqrt(2))"
   ]
  },
  {
   "cell_type": "code",
   "execution_count": 8,
   "id": "7326ac6d-e5ac-451a-8997-adc6946dbffb",
   "metadata": {},
   "outputs": [
    {
     "name": "stdout",
     "output_type": "stream",
     "text": [
      "1.4210854715202004\n"
     ]
    }
   ],
   "source": [
    "print((y - x)*(1e14)) # this is essentially sqrt(2), we see that it is not the same as the value we got earlier."
   ]
  },
  {
   "cell_type": "markdown",
   "id": "82ebce70-d077-4ff4-8c99-8cea2097ea62",
   "metadata": {},
   "source": [
    "For subtraction, it is important to have the same order of magnitude as we have only 64 bits and it could go out of range."
   ]
  },
  {
   "cell_type": "markdown",
   "id": "8a5607e2-e447-4251-a203-075838a84f50",
   "metadata": {},
   "source": [
    "### NaN $\\neq$ NaN"
   ]
  },
  {
   "cell_type": "code",
   "execution_count": 9,
   "id": "b9792bcd-2bd2-4063-8471-b6849ad288bd",
   "metadata": {},
   "outputs": [
    {
     "name": "stdout",
     "output_type": "stream",
     "text": [
      "Sum: nan Product: -inf\n"
     ]
    }
   ],
   "source": [
    "try:\n",
    "    x, y = -2, 0\n",
    "    y1, y2 = 1/y, -(1/y)\n",
    "    z = y1 + y2\n",
    "except:\n",
    "    y1, y2 = np.inf, -np.inf\n",
    "    z = y1 + y2\n",
    "    print('Sum:', z, 'Product:', y1*y2)"
   ]
  },
  {
   "cell_type": "code",
   "execution_count": 10,
   "id": "33c73a61-9d2e-4b42-b780-66346215cce1",
   "metadata": {},
   "outputs": [
    {
     "name": "stdout",
     "output_type": "stream",
     "text": [
      "Equal -2\n",
      "Not equal nan\n"
     ]
    }
   ],
   "source": [
    "if x == x:\n",
    "    print('Equal', x)\n",
    "if z != z:\n",
    "    print('Not equal', z)"
   ]
  },
  {
   "cell_type": "markdown",
   "id": "a52fab87-a23c-4b64-ba1c-0ad355d95d9b",
   "metadata": {},
   "source": [
    "Here, NaN should *literally* not be treated as a number as  we can see above. A good practice while coding is to have a clean exit (error handling). Many Linux machines have something called an 'Exit Status' that tells us what is wrong with the code during the process. There is a 'trap' command that traps signals and executes instantaneously. Modularity is also important, which is essentially chunking the programme so that we can test and debug each component easily. Commenting the code and documenting the variables and parameters at the beginning would do wonders."
   ]
  },
  {
   "cell_type": "markdown",
   "id": "6699809a-3752-4f14-a4ba-6adf586d54ab",
   "metadata": {},
   "source": [
    "## Problem 4: Dealing with Quadratics\n",
    "\n",
    "Write a programme to get  the roots of `a*x**2 + b*x + c = 0` (use the standard formula). Take b = c = 1 and print the roots for different values of `a = 10**(-j)` where `j` is from 2 to 64. Explain the nature of the results and modify your programme to get \"meaningful\" results."
   ]
  },
  {
   "cell_type": "code",
   "execution_count": 11,
   "id": "415833dd-e5a9-427d-bf58-9d99bd297239",
   "metadata": {},
   "outputs": [
    {
     "name": "stdout",
     "output_type": "stream",
     "text": [
      "0.01 -1.0102051443364402 -98.98979485566356\n",
      "0.001 -1.0010020050140178 -998.998997994986\n",
      "0.0001 -1.000100020004946 -9998.999899979994\n",
      "1e-05 -1.0000100002016676 -99998.99998999978\n",
      "1e-06 -1.000001000006634 -999998.999999\n",
      "1e-07 -1.0000000999488279 -9999998.9999999\n",
      "1e-08 -1.0000000105758744 -99999998.99999999\n",
      "1e-09 -1.0000000272292198 -999999998.9999999\n",
      "1e-10 -1.000000082740371 -9999999999.0\n",
      "1e-11 -1.000000082740371 -99999999999.0\n",
      "1e-12 -1.0000333894311098 -999999999998.9999\n",
      "1e-13 -1.000310945187266 -9999999999999.0\n",
      "1e-14 -0.9992007221626409 -99999999999999.0\n",
      "1e-15 -0.9992007221626408 -999999999999998.9\n",
      "1e-16 -1.1102230246251565 -1e+16\n",
      "1e-17 0.0 -1e+17\n",
      "1e-18 0.0 -9.999999999999999e+17\n",
      "1e-19 0.0 -1e+19\n"
     ]
    }
   ],
   "source": [
    "b, c, n = 1, 1, 2\n",
    "while n < 20:\n",
    "    a = 10**(-n)\n",
    "    xp, xm = (-b + np.sqrt(b**2 - 4*a*c))/(2*a), (-b - np.sqrt(b**2 - 4*a*c))/(2*a)\n",
    "    print(a, xp, xm)\n",
    "    n += 1"
   ]
  },
  {
   "cell_type": "markdown",
   "id": "ec729535-1314-475c-b528-f74755d6b3d2",
   "metadata": {},
   "source": [
    "Once again, don't use subtraction for these kinds of numbers. We can edit the code such that you use addition instead. Consider the quadratic equation $\\frac{a}{y^2} + \\frac{b}{y} + c = 0$ such that $x = 1/y$."
   ]
  },
  {
   "cell_type": "code",
   "execution_count": 12,
   "id": "fdd4fcfe-d2ae-41cc-8548-f49c97022a17",
   "metadata": {},
   "outputs": [
    {
     "name": "stdout",
     "output_type": "stream",
     "text": [
      "0.01 -98.98979485566356 inf\n",
      "0.001 -998.998997994986 inf\n",
      "0.0001 -9998.999899979994 inf\n",
      "1e-05 -99998.99998999978 inf\n",
      "1e-06 -999998.999999 inf\n",
      "1e-07 -9999998.9999999 inf\n",
      "1e-08 -99999998.99999999 inf\n",
      "1e-09 -999999998.9999999 inf\n",
      "1e-10 -9999999999.0 inf\n",
      "1e-11 -99999999999.0 inf\n",
      "1e-12 -999999999998.9999 inf\n",
      "1e-13 -9999999999999.0 inf\n",
      "1e-14 -99999999999999.0 inf\n",
      "1e-15 -999999999999998.9 inf\n",
      "1e-16 -1e+16 inf\n",
      "1e-17 -1e+17 inf\n",
      "1e-18 -9.999999999999999e+17 inf\n",
      "1e-19 -1e+19 inf\n"
     ]
    }
   ],
   "source": [
    "b, c, n = 1, 1, 2\n",
    "while n < 20:\n",
    "    a = 10**(-n)\n",
    "    yp1, ym1 = (-b - np.sqrt(b**2 - 4*a*c))/(2*a), (2*c)/(-b - np.sqrt(b**2 - 4*a*c))\n",
    "    print(a, yp1, y1)\n",
    "    n += 1"
   ]
  },
  {
   "cell_type": "code",
   "execution_count": 13,
   "id": "8a5bf7a8-c60d-4d5d-972b-45ab47722fa9",
   "metadata": {},
   "outputs": [
    {
     "name": "stdout",
     "output_type": "stream",
     "text": [
      "0.01 -1.0102051443364402 -98.98979485566335\n",
      "0.001 -1.0010020050140178 -998.9989979950102\n",
      "0.0001 -1.000100020004946 -9998.99989998055\n",
      "1e-05 -1.0000100002016676 -99998.99998983354\n",
      "1e-06 -1.000001000006634 -999998.9999943661\n",
      "1e-07 -1.0000000999488279 -9999999.000511821\n",
      "1e-08 -1.0000000105758744 -99999998.94241257\n",
      "1e-09 -1.0000000272292198 -999999972.7707809\n",
      "1e-10 -1.000000082740371 -9999999172.59636\n",
      "1e-11 -1.000000082740371 -99999991725.96358\n",
      "1e-12 -1.0000333894311098 -999966611683.7072\n",
      "1e-13 -1.000310945187266 -9996891514695.885\n",
      "1e-14 -0.9992007221626409 -100079991719344.36\n",
      "1e-15 -0.9992007221626408 -1000799917193443.5\n",
      "1e-16 -1.1102230246251565 -9007199254740992.0\n",
      "1e-17 0.0 inf\n",
      "1e-18 0.0 inf\n",
      "1e-19 0.0 inf\n"
     ]
    },
    {
     "name": "stderr",
     "output_type": "stream",
     "text": [
      "/tmp/ipykernel_36550/242962591.py:4: RuntimeWarning: divide by zero encountered in scalar divide\n",
      "  yp2, ym2 = (-b + np.sqrt(b**2 - 4*a*c))/(2*a), (2*c)/(-b + np.sqrt(b**2 - 4*a*c))\n"
     ]
    }
   ],
   "source": [
    "b, c, n = 1, 1, 2\n",
    "while n < 20:\n",
    "    a = 10**(-n)\n",
    "    yp2, ym2 = (-b + np.sqrt(b**2 - 4*a*c))/(2*a), (2*c)/(-b + np.sqrt(b**2 - 4*a*c))\n",
    "    print(a, yp2, ym2)\n",
    "    n += 1"
   ]
  },
  {
   "cell_type": "markdown",
   "id": "134b645c-90e6-4762-9cb8-2fcdc25bbc0b",
   "metadata": {},
   "source": [
    "### Boundary Layer Problems (Singular Perturbation)\n",
    "\n",
    "We can approximate the solutions to\n",
    "\n",
    "$x = \\frac{-b \\pm \\sqrt(b^2 - 4ac)}{2a} = \\frac{1}{2a}\\left(-b \\pm b\\left(1 - \\frac{4ac}{b^2}\\right)^{\\frac{1}{2}}\\right) = \\frac{1}{2a}\\left(-b \\pm b\\left(1 - \\frac{1}{2}\\frac{4ac}{b^2} + ...\\right)\\right) = \\frac{1}{2a}\\left(-b + b - \\frac{2ac}{b}\\right) \\to -\\frac{c}{b}$ as $a \\to 0$. \n",
    "\n",
    "Also, $\\frac{1}{2a}\\left(-b - b - \\frac{2ac}{b}\\right) \\rightarrow -\\frac{b}{a} + \\frac{c}{b}$ as $a \\rightarrow 0$.\n",
    "\n",
    "This is called a singular perturbation as we have essentially converted a quadratic problem to a linear problem and we are considering a small perturbation $a \\to 0$."
   ]
  },
  {
   "cell_type": "code",
   "execution_count": 14,
   "id": "7e98762b-7b93-491a-8c58-6348b8e8ee0f",
   "metadata": {},
   "outputs": [
    {
     "name": "stdout",
     "output_type": "stream",
     "text": [
      "0.01 -1.0102051443364402 -98.98979485566356\n",
      "0.001 -1.0010020050140178 -998.998997994986\n",
      "0.0001 -1.000100020004946 -9998.999899979994\n",
      "1e-05 -1.0000100002016676 -99998.99998999978\n",
      "1e-06 -1.000001000006634 -999998.999999\n",
      "1e-07 -1.0000000999488279 -9999998.9999999\n",
      "1e-08 -1.0000000105758744 -99999998.99999999\n",
      "1e-09 -1.0000000272292198 -999999998.9999999\n",
      "1e-10 -1.000000082740371 -9999999999.0\n",
      "1e-11 -1.000000082740371 -99999999999.0\n",
      "1e-12 -1.0000333894311098 -999999999998.9999\n",
      "1e-13 -1.000310945187266 -9999999999999.0\n",
      "1e-14 -0.9992007221626409 -99999999999999.0\n",
      "1e-15 -0.9992007221626408 -999999999999998.9\n",
      "1e-16 -1.1102230246251565 -1e+16\n",
      "1e-17 0.0 -1e+17\n",
      "1e-18 0.0 -9.999999999999999e+17\n",
      "1e-19 0.0 -1e+19\n",
      "1e-20 0.0 -1e+20\n",
      "1e-21 0.0 -1.0000000000000001e+21\n",
      "1e-22 0.0 -1e+22\n",
      "1e-23 0.0 -1.0000000000000001e+23\n",
      "1e-24 0.0 -1.0000000000000001e+24\n",
      "1e-25 0.0 -9.999999999999999e+24\n",
      "1e-26 0.0 -9.999999999999999e+25\n",
      "1e-27 0.0 -1e+27\n",
      "1e-28 0.0 -1e+28\n",
      "1e-29 0.0 -1.0000000000000001e+29\n",
      "1e-30 0.0 -9.999999999999999e+29\n",
      "1e-31 0.0 -1e+31\n",
      "1e-32 0.0 -9.999999999999999e+31\n",
      "1e-33 0.0 -1e+33\n",
      "1e-34 0.0 -1.0000000000000001e+34\n",
      "1e-35 0.0 -1e+35\n",
      "1e-36 0.0 -1e+36\n",
      "1e-37 0.0 -1e+37\n",
      "1e-38 0.0 -1e+38\n",
      "1e-39 0.0 -1.0000000000000001e+39\n",
      "1e-40 0.0 -1e+40\n",
      "1e-41 0.0 -1e+41\n",
      "1e-42 0.0 -9.999999999999999e+41\n",
      "1e-43 0.0 -9.999999999999999e+42\n",
      "1e-44 0.0 -1e+44\n",
      "1e-45 0.0 -1.0000000000000001e+45\n",
      "1e-46 0.0 -1e+46\n",
      "1e-47 0.0 -1e+47\n",
      "1e-48 0.0 -1e+48\n",
      "1e-49 0.0 -1.0000000000000001e+49\n",
      "1e-50 0.0 -1e+50\n",
      "1e-51 0.0 -1e+51\n",
      "1e-52 0.0 -1e+52\n",
      "1e-53 0.0 -1e+53\n",
      "1e-54 0.0 -9.999999999999999e+53\n",
      "1e-55 0.0 -1e+55\n",
      "1e-56 0.0 -9.999999999999999e+55\n",
      "1e-57 0.0 -1e+57\n",
      "1e-58 0.0 -1e+58\n",
      "1e-59 0.0 -1e+59\n",
      "1e-60 0.0 -1e+60\n",
      "1e-61 0.0 -1e+61\n",
      "1e-62 0.0 -9.999999999999999e+61\n",
      "1e-63 0.0 -9.999999999999999e+62\n"
     ]
    }
   ],
   "source": [
    "# considering the original roots\n",
    "\n",
    "b, c, n = 1, 1, 2\n",
    "while n < 64:\n",
    "    a = 10**(-n)\n",
    "    xp, xm = (-b + np.sqrt(b**2 - 4*a*c))/(2*a), (-b - np.sqrt(b**2 - 4*a*c))/(2*a)\n",
    "    print(a, xp, xm)\n",
    "    n += 1"
   ]
  },
  {
   "cell_type": "markdown",
   "id": "83a898ec-ecbd-44da-9267-f012f2973e90",
   "metadata": {},
   "source": [
    "Here, we get non-sensical roots because subtraction of floating point numbeers are constrained by the fact that we only have 64 bits, so during the operation, the value would get truncated."
   ]
  },
  {
   "cell_type": "code",
   "execution_count": 15,
   "id": "11e49153-3e02-4e32-98c6-7e4e57e13cc7",
   "metadata": {},
   "outputs": [
    {
     "name": "stdout",
     "output_type": "stream",
     "text": [
      "0.01 -1.0102051443364402 -98.98979485566335\n",
      "0.001 -1.0010020050140178 -998.9989979950102\n",
      "0.0001 -1.000100020004946 -9998.99989998055\n",
      "1e-05 -1.0000100002016676 -99998.99998983354\n",
      "1e-06 -1.000001000006634 -999998.9999943661\n",
      "1e-07 -1.0000000999488279 -9999999.000511821\n",
      "1e-08 -1.0000000105758744 -99999998.94241257\n",
      "1e-09 -1.0000000272292198 -999999972.7707809\n",
      "1e-10 -1.000000082740371 -9999999172.59636\n",
      "1e-11 -1.000000082740371 -99999991725.96358\n",
      "1e-12 -1.0000333894311098 -999966611683.7072\n",
      "1e-13 -1.000310945187266 -9996891514695.885\n",
      "1e-14 -0.9992007221626409 -100079991719344.36\n",
      "1e-15 -0.9992007221626408 -1000799917193443.5\n",
      "1e-16 -1.1102230246251565 -9007199254740992.0\n",
      "1e-17 0.0 inf\n",
      "1e-18 0.0 inf\n",
      "1e-19 0.0 inf\n",
      "1e-20 0.0 inf\n",
      "1e-21 0.0 inf\n",
      "1e-22 0.0 inf\n",
      "1e-23 0.0 inf\n",
      "1e-24 0.0 inf\n",
      "1e-25 0.0 inf\n",
      "1e-26 0.0 inf\n",
      "1e-27 0.0 inf\n",
      "1e-28 0.0 inf\n",
      "1e-29 0.0 inf\n",
      "1e-30 0.0 inf\n",
      "1e-31 0.0 inf\n",
      "1e-32 0.0 inf\n",
      "1e-33 0.0 inf\n",
      "1e-34 0.0 inf\n",
      "1e-35 0.0 inf\n",
      "1e-36 0.0 inf\n",
      "1e-37 0.0 inf\n",
      "1e-38 0.0 inf\n",
      "1e-39 0.0 inf\n",
      "1e-40 0.0 inf\n",
      "1e-41 0.0 inf\n",
      "1e-42 0.0 inf\n",
      "1e-43 0.0 inf\n",
      "1e-44 0.0 inf\n",
      "1e-45 0.0 inf\n",
      "1e-46 0.0 inf\n",
      "1e-47 0.0 inf\n",
      "1e-48 0.0 inf\n",
      "1e-49 0.0 inf\n",
      "1e-50 0.0 inf\n",
      "1e-51 0.0 inf\n",
      "1e-52 0.0 inf\n",
      "1e-53 0.0 inf\n",
      "1e-54 0.0 inf\n",
      "1e-55 0.0 inf\n",
      "1e-56 0.0 inf\n",
      "1e-57 0.0 inf\n",
      "1e-58 0.0 inf\n",
      "1e-59 0.0 inf\n",
      "1e-60 0.0 inf\n",
      "1e-61 0.0 inf\n",
      "1e-62 0.0 inf\n",
      "1e-63 0.0 inf\n"
     ]
    },
    {
     "name": "stderr",
     "output_type": "stream",
     "text": [
      "/tmp/ipykernel_36550/3423272913.py:7: RuntimeWarning: divide by zero encountered in scalar divide\n",
      "  yp2, ym2 = (-b + np.sqrt(b**2 - 4*a*c))/(2*a), (2*c)/(-b + np.sqrt(b**2 - 4*a*c))\n"
     ]
    }
   ],
   "source": [
    "# Take b = c = 1 and print the roots for different values of a= 10**(-j) where j is from 2 to 64\n",
    "# considering the modified roots\n",
    "\n",
    "b, c, n = 1, 1, 2\n",
    "while n < 64:\n",
    "    a = 10**(-n)\n",
    "    yp2, ym2 = (-b + np.sqrt(b**2 - 4*a*c))/(2*a), (2*c)/(-b + np.sqrt(b**2 - 4*a*c))\n",
    "    print(a, yp2, ym2)\n",
    "    n += 1"
   ]
  }
 ],
 "metadata": {
  "kernelspec": {
   "display_name": "Python 3 (ipykernel)",
   "language": "python",
   "name": "python3"
  },
  "language_info": {
   "codemirror_mode": {
    "name": "ipython",
    "version": 3
   },
   "file_extension": ".py",
   "mimetype": "text/x-python",
   "name": "python",
   "nbconvert_exporter": "python",
   "pygments_lexer": "ipython3",
   "version": "3.12.8"
  }
 },
 "nbformat": 4,
 "nbformat_minor": 5
}
