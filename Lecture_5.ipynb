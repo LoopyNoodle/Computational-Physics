{
 "cells": [
  {
   "cell_type": "markdown",
   "id": "07551c3d-40d8-42de-90a3-645da0aef76b",
   "metadata": {},
   "source": [
    "# Lecture 5"
   ]
  },
  {
   "cell_type": "code",
   "execution_count": 3,
   "id": "6d5a0828-15f5-4992-9b8c-2507cfc38346",
   "metadata": {},
   "outputs": [],
   "source": [
    "import numpy as np"
   ]
  },
  {
   "cell_type": "markdown",
   "id": "bd8846cb-d680-4665-bccc-eab35d9a6d68",
   "metadata": {},
   "source": [
    "### Evaluating $e^{-x}$\n",
    "\n",
    "When we Taylor expand $e^{-x}$, we have $1 - \\frac{x}{1!} + \\frac{x^{2}}{2!} - \\frac{x^{3}}{3!} + ... + \\frac{x^{n}}{n!}$. We can apply this to our programme. One method is to isolate odd and even terms. Let us initialise a variables `sum`, `sumeven` and `sumodd`.\n",
    "\n",
    "1. Loop over `k` from 1 to $n$\n",
    "2. `termeven` = `termeven` $\\times \\frac{x^{2}}{2k(k - 1)}$ and `sumeven = sumeven + termeven`. So when `k = 0`, `termeven = 1` and we have the rest of the odd terms\n",
    "3. Now, we can evaluate the odd terms: `termodd` = `termodd` $\\times \\frac{x^{2}}{(2k + 1)2k}$. So, `sumodd = sumodd - termodd`.\n",
    "\n",
    "Essentially we have:\n",
    "\n",
    "`sum` $= \\sum_{k = 0}^{n} \\frac{x^{k}}{k!}$\n",
    "\n",
    "`sumeven` $= \\sum_{k = 0}^{n/2} \\frac{x^{2k}}{(2k)!}$\n",
    "\n",
    "`sumodd` $= \\sum_{k = 0}^{n/2} \\frac{x^{2k + 1}}{(2k + 1)!}$"
   ]
  },
  {
   "cell_type": "code",
   "execution_count": 4,
   "id": "5683d50b-7d9b-4518-a83a-93bd40c3a224",
   "metadata": {},
   "outputs": [],
   "source": [
    "def ex_1(x, n):\n",
    "    termeven, termodd, sumeven, sumodd = 1, -x, 1, -x\n",
    "    k = 2\n",
    "    while k < n:\n",
    "        termeven *= (x**2)/(2*k*(k - 1))\n",
    "        termodd *= (x**2)/(2*k*((2*k) + 1))\n",
    "        sumeven += termeven\n",
    "        sumodd -= termodd\n",
    "        k += 1\n",
    "        return sumeven + sumodd"
   ]
  },
  {
   "cell_type": "markdown",
   "id": "ee699dc9-4f42-4df8-b8f8-8adc9a697c80",
   "metadata": {},
   "source": [
    "Another method is to loop over `j` from 1 to $n$, let `term = term * x/j` and add the term to the initial `sum` that was set to 0. But which method is better? Mathematically, both are good but computationally?"
   ]
  },
  {
   "cell_type": "code",
   "execution_count": 5,
   "id": "38f198fd-f67e-4a78-b670-aaf3c5fbfb51",
   "metadata": {},
   "outputs": [
    {
     "name": "stdout",
     "output_type": "stream",
     "text": [
      "-2.0 0.049787068367863944\n"
     ]
    }
   ],
   "source": [
    "def ex_2(x, n):\n",
    "    j, tot_sum, term = 1, 1, 1\n",
    "    while j < n:\n",
    "        term *= x/j\n",
    "        sign = (-1)**j\n",
    "        tot_sum += term * sign\n",
    "        j += 1\n",
    "        return tot_sum\n",
    "\n",
    "print(ex_2(3, 500), np.exp(-3))"
   ]
  },
  {
   "cell_type": "code",
   "execution_count": 6,
   "id": "792d872f-2d47-49a4-bcea-49c33b7f12eb",
   "metadata": {},
   "outputs": [
    {
     "name": "stdin",
     "output_type": "stream",
     "text": [
      "Enter the value of x:  1\n",
      "Enter the value of n:  7\n"
     ]
    },
    {
     "name": "stdout",
     "output_type": "stream",
     "text": [
      "Sum 1:  0.30000000000000004 Sum 2:  0.0 Actual Value:  0.36787944117144233\n"
     ]
    },
    {
     "name": "stdin",
     "output_type": "stream",
     "text": [
      "Do you want to continue? [Y/N]  Y\n",
      "Enter the value of x:  1\n",
      "Enter the value of n:  50\n"
     ]
    },
    {
     "name": "stdout",
     "output_type": "stream",
     "text": [
      "Sum 1:  0.30000000000000004 Sum 2:  0.0 Actual Value:  0.36787944117144233\n"
     ]
    },
    {
     "name": "stdin",
     "output_type": "stream",
     "text": [
      "Do you want to continue? [Y/N]  N\n"
     ]
    }
   ],
   "source": [
    "yn = 'Y'\n",
    "while yn == 'Y' or 'y':\n",
    "    x = int(input('Enter the value of x: '))\n",
    "    n = int(input('Enter the value of n: '))\n",
    "    print('Sum 1: ', ex_1(x, n), 'Sum 2: ', ex_2(x, n), 'Actual Value: ', np.exp(-x))\n",
    "    yn = input('Do you want to continue? [Y/N] ')\n",
    "    if yn != 'Y':\n",
    "        break"
   ]
  },
  {
   "cell_type": "markdown",
   "id": "8ec384a5-8d1f-4d41-872e-da9b803c232a",
   "metadata": {},
   "source": [
    "The first method is computationally more efficient. Some key takeaways from this:\n",
    "\n",
    "1. Do not subtract large numbers, especially if the difference is expected to be small\n",
    "2. Isolate positive and negative terms for oscillatory series"
   ]
  },
  {
   "cell_type": "markdown",
   "id": "3d0dab7d-09f9-4ac9-a7b4-f03353041056",
   "metadata": {},
   "source": [
    "### Recursive *vs* Dynamic Programming\n",
    "\n",
    "Let us look back at the golden mean. In recursive programming, we did something along the lines of\n",
    "\n",
    "`def gmean(n)`\n",
    "\n",
    "...\n",
    "\n",
    "`return gmean(n - 2) + gmean(n - 1)`\n",
    "\n",
    "On the other hand, dynamic programming was applied along the lines of\n",
    "\n",
    "`def gmean_dyn(n)`\n",
    "\n",
    "`gld_num = gmean_dyn(n - 2) + gmean_dyn(n - 1)`\n",
    "    \n",
    "`arr[n] = gld_num`\n",
    "    \n",
    "`return gld_num`\n",
    "    \n",
    "`arr = {}`\n",
    "\n",
    "`print(gmean_dyn(n))`\n",
    "\n",
    "Dynamic programming could also involve something called a *tree structure*. A dynamic programme algorithm solves a complex problem by breaking it down into its smaller parts (nodes) and stores the results to these subproblems after computing them once. \n",
    "\n",
    "## Figuring Out Using Transfer Matrices (Problem 8 Cont.)\n",
    "\n",
    "Now, we can write a 'smarter' programme for the golden mean. We know that $\\phi^n = \\phi^{n-1} + \\phi^{n-2}$. Let us take $\\begin{pmatrix} \\phi^n \\\\ \\phi^{n-1} \\end{pmatrix}$, considering it as a two-dimensional vector. Now, we can write the original recurrence relation in matrix form as\n",
    "\n",
    "$\n",
    "\\begin{pmatrix} \\phi^n \\\\ \\phi^{n-1} \\end{pmatrix} =\n",
    "\\begin{pmatrix} 1 & 1 \\\\ 1 & 0 \\end{pmatrix} \\times\n",
    "\\begin{pmatrix} \\phi^{n-1} \\\\ \\phi^{n-2} \\end{pmatrix}\n",
    "$,\n",
    "\n",
    "where $T = \\begin{pmatrix} 1 & 1 \\\\ 1 & 0 \\end{pmatrix}$ is something called the *transfer matrix* (in fact, this was also used to solve the Ising model!) To approximate the golden ratio to some *n* power, we just essentially repeat this process.\n",
    "\n",
    "$\n",
    "\\implies \\begin{pmatrix} \\phi^n \\\\ \\phi^{n-1} \\end{pmatrix} = T^{(n-1)} \\times\n",
    "\\begin{pmatrix} \\phi^1 \\\\ \\phi^0 \\end{pmatrix}\n",
    "$\n",
    "\n",
    "where\n",
    "\n",
    "$\\begin{pmatrix} \\phi^1 \\\\ \\phi^0 \\end{pmatrix} = \\begin{pmatrix} \\phi \\\\ 1 \\end{pmatrix}$\n",
    "\n",
    "It is important to diagonalise this so that we can use the basis for the next calculation. This is a very efficient method to compute in O$(\\ln{n})$ time instead of O$(n)$ or O$(2^{n})$."
   ]
  },
  {
   "cell_type": "code",
   "execution_count": 47,
   "id": "310cf5c5-c666-49fd-84dc-b96e28eaedd9",
   "metadata": {},
   "outputs": [],
   "source": [
    "def expo(T, n):\n",
    "    result = np.identity(2) # starting with an identity matrix\n",
    "    base = T\n",
    "    while n > 0:\n",
    "        if n % 2 == 1:\n",
    "            result = np.dot(result, base)\n",
    "        base = np.dot(base, base)\n",
    "        n //= 2\n",
    "    return result\n",
    "\n",
    "# this is a function for fast binary power calculation that computes in logarithmic time. We are reducing n step-by-step in binary"
   ]
  },
  {
   "cell_type": "code",
   "execution_count": 48,
   "id": "8dd5373e-5890-4e1c-ad57-f513734dd12e",
   "metadata": {},
   "outputs": [],
   "source": [
    "phi = (1 + np.sqrt(5))/2\n",
    "\n",
    "def transfer_matrix(n):\n",
    "    if n == 0:\n",
    "        return 1\n",
    "    elif n == 1:\n",
    "        return phi\n",
    "        \n",
    "    T = np.array([[1, 1], [1, 0]], dtype = np.float64)\n",
    "    T_n = expo(T, n - 1)\n",
    "\n",
    "    # basis\n",
    "    phi_0, phi_1 = 1, phi\n",
    "\n",
    "    result = np.dot(T_n, np.array([phi_0, phi_1]))\n",
    "    return result[0]"
   ]
  },
  {
   "cell_type": "code",
   "execution_count": 51,
   "id": "77e30b31-9b6b-4cd4-a7a3-9b09455df003",
   "metadata": {},
   "outputs": [
    {
     "name": "stdin",
     "output_type": "stream",
     "text": [
      "Number of steps (n):  10\n"
     ]
    },
    {
     "name": "stdout",
     "output_type": "stream",
     "text": [
      "110.01315561749642\n"
     ]
    }
   ],
   "source": [
    "N = int(input('Number of steps (n): '))\n",
    "print(transfer_matrix(N))"
   ]
  },
  {
   "cell_type": "code",
   "execution_count": 56,
   "id": "c652b79f-0dde-4232-8619-68d73e10bc28",
   "metadata": {},
   "outputs": [
    {
     "name": "stdout",
     "output_type": "stream",
     "text": [
      "Eigenvalues:  [ 1.61803399 -0.61803399]\n",
      "Unstable (some lambda >= 1)\n"
     ]
    }
   ],
   "source": [
    "def stab(T):\n",
    "    eigenval, x = np.linalg.eig(T)\n",
    "    print(\"Eigenvalues: \", eigenval)\n",
    "\n",
    "    # checking stability\n",
    "    stable = all(abs(l) < 1 for l in eigenval)\n",
    "    if stable:\n",
    "        print('Stable (lambda < 1)')\n",
    "    else:\n",
    "        print('Unstable (some lambda >= 1)')\n",
    "\n",
    "stab(T)"
   ]
  },
  {
   "cell_type": "markdown",
   "id": "9a245184-96ef-4b92-82fd-3a19f91c8b8a",
   "metadata": {},
   "source": [
    "The eigenvalues here are $(1 + \\sqrt{5})/2$ and $(1 - \\sqrt{5})/2$"
   ]
  }
 ],
 "metadata": {
  "kernelspec": {
   "display_name": "Python 3 (ipykernel)",
   "language": "python",
   "name": "python3"
  },
  "language_info": {
   "codemirror_mode": {
    "name": "ipython",
    "version": 3
   },
   "file_extension": ".py",
   "mimetype": "text/x-python",
   "name": "python",
   "nbconvert_exporter": "python",
   "pygments_lexer": "ipython3",
   "version": "3.12.8"
  }
 },
 "nbformat": 4,
 "nbformat_minor": 5
}
