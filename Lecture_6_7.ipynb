{
 "cells": [
  {
   "cell_type": "markdown",
   "id": "3278b58a-2d89-45d7-9e93-49c17fdbfd84",
   "metadata": {},
   "source": [
    "# Lecture 6 & 7"
   ]
  },
  {
   "cell_type": "markdown",
   "id": "81a03568-3b1a-4e11-b5cd-11c566089690",
   "metadata": {},
   "source": [
    "## Finding Roots\n",
    "\n",
    "There are many methods to find roots of a polynomial like the bisection method. Another one which we will explore here is the iterative method. Here, we want to find solutions of the form $f(x) = 0$ by rewriting it as some function of $x$, i.e., $x = g(x)$ and iteratively solve for $x$. We will start with an initial guess $x_0$ and repeat the proce until the difference between successive approximations is smaller than a chosen tolerance. If the sequence $x_n$ converges, then the fixed point is the approximate root.\n",
    "\n",
    "<hr>\n",
    "\n",
    "## Problem 9: Iterative Method for Root Finding\n",
    "\n",
    "Use the iterative method to find the root of $x^{3} = 1$. Use two forms: \n",
    "\n",
    "(a) $x = 1/x^{2}$, and \n",
    "\n",
    "(b) $x = 1/\\sqrt{x}$.\n",
    "\n",
    "Explain the nature of convergence/divergence."
   ]
  },
  {
   "cell_type": "code",
   "execution_count": 1,
   "id": "e0f9c427-2245-4f09-9542-1be98f561b39",
   "metadata": {},
   "outputs": [],
   "source": [
    "import numpy as np"
   ]
  },
  {
   "cell_type": "code",
   "execution_count": 2,
   "id": "765f3630-e5a3-4aad-aae3-0cc0ba32baf2",
   "metadata": {},
   "outputs": [],
   "source": [
    "def iter_1(x_0, N_max = 200, tol = 1e-6):\n",
    "    x = x_0 \n",
    "    for i in range(N_max):\n",
    "        x_n = 1/(x**2)\n",
    "        if np.abs(x_n - x) < tol:\n",
    "            return x_n, i + 1\n",
    "        x = x_n\n",
    "        \n",
    "    return x_n, N_max"
   ]
  },
  {
   "cell_type": "code",
   "execution_count": 3,
   "id": "3dc34e5b-c303-44f3-aa47-9a9a76c9e081",
   "metadata": {},
   "outputs": [
    {
     "name": "stdin",
     "output_type": "stream",
     "text": [
      "Enter initial guess x_0:  0.5\n"
     ]
    },
    {
     "ename": "OverflowError",
     "evalue": "(34, 'Numerical result out of range')",
     "output_type": "error",
     "traceback": [
      "\u001b[0;31m---------------------------------------------------------------------------\u001b[0m",
      "\u001b[0;31mOverflowError\u001b[0m                             Traceback (most recent call last)",
      "Cell \u001b[0;32mIn[3], line 2\u001b[0m\n\u001b[1;32m      1\u001b[0m x_0 \u001b[38;5;241m=\u001b[39m \u001b[38;5;28mfloat\u001b[39m(\u001b[38;5;28minput\u001b[39m(\u001b[38;5;124m'\u001b[39m\u001b[38;5;124mEnter initial guess x_0: \u001b[39m\u001b[38;5;124m'\u001b[39m))\n\u001b[0;32m----> 2\u001b[0m root, iters \u001b[38;5;241m=\u001b[39m iter_1(x_0)\n\u001b[1;32m      3\u001b[0m \u001b[38;5;28mprint\u001b[39m(root, \u001b[38;5;124m'\u001b[39m\u001b[38;5;124mafter\u001b[39m\u001b[38;5;124m'\u001b[39m, iters, \u001b[38;5;124m'\u001b[39m\u001b[38;5;124miterations.\u001b[39m\u001b[38;5;124m'\u001b[39m)\n",
      "Cell \u001b[0;32mIn[2], line 4\u001b[0m, in \u001b[0;36miter_1\u001b[0;34m(x_0, N_max, tol)\u001b[0m\n\u001b[1;32m      2\u001b[0m x \u001b[38;5;241m=\u001b[39m x_0 \n\u001b[1;32m      3\u001b[0m \u001b[38;5;28;01mfor\u001b[39;00m i \u001b[38;5;129;01min\u001b[39;00m \u001b[38;5;28mrange\u001b[39m(N_max):\n\u001b[0;32m----> 4\u001b[0m     x_n \u001b[38;5;241m=\u001b[39m \u001b[38;5;241m1\u001b[39m\u001b[38;5;241m/\u001b[39m(x\u001b[38;5;241m*\u001b[39m\u001b[38;5;241m*\u001b[39m\u001b[38;5;241m2\u001b[39m)\n\u001b[1;32m      5\u001b[0m     \u001b[38;5;28;01mif\u001b[39;00m np\u001b[38;5;241m.\u001b[39mabs(x_n \u001b[38;5;241m-\u001b[39m x) \u001b[38;5;241m<\u001b[39m tol:\n\u001b[1;32m      6\u001b[0m         \u001b[38;5;28;01mreturn\u001b[39;00m x_n, i \u001b[38;5;241m+\u001b[39m \u001b[38;5;241m1\u001b[39m\n",
      "\u001b[0;31mOverflowError\u001b[0m: (34, 'Numerical result out of range')"
     ]
    }
   ],
   "source": [
    "x_0 = float(input('Enter initial guess x_0: '))\n",
    "root, iters = iter_1(x_0)\n",
    "print(root, 'after', iters, 'iterations.')"
   ]
  },
  {
   "cell_type": "code",
   "execution_count": 4,
   "id": "495ccb07-0cd2-48d3-8950-532382f63ce2",
   "metadata": {},
   "outputs": [],
   "source": [
    "def iter_2(x_0, N_max = 200, tol = 1e-6):\n",
    "    x = x_0 \n",
    "    for i in range(N_max):\n",
    "        x_n = 1/np.sqrt(x)\n",
    "        if np.abs(x_n - x) < tol:\n",
    "            return x_n, i + 1\n",
    "        x = x_n\n",
    "        \n",
    "    return x_n, N_max"
   ]
  },
  {
   "cell_type": "code",
   "execution_count": 5,
   "id": "e23a72ef-d816-4563-b354-c645f29fc397",
   "metadata": {},
   "outputs": [
    {
     "name": "stdin",
     "output_type": "stream",
     "text": [
      "Enter initial guess x_0:  0.5\n"
     ]
    },
    {
     "name": "stdout",
     "output_type": "stream",
     "text": [
      "1.0000003305183864 after 21 iterations.\n"
     ]
    }
   ],
   "source": [
    "x_0 = float(input('Enter initial guess x_0: '))\n",
    "root, iters = iter_2(x_0)\n",
    "print(root, 'after', iters, 'iterations.')"
   ]
  },
  {
   "cell_type": "markdown",
   "id": "f6693357-1a9b-4158-aaea-da4a301db256",
   "metadata": {},
   "source": [
    "Here, we find that when we use the first function, it diverges quickly. On the other hand, for the second function, it converges to a solution. Therefore, the second function is computationally better."
   ]
  },
  {
   "cell_type": "markdown",
   "id": "0acfa883-7195-4929-a92b-fa70c6720cfc",
   "metadata": {},
   "source": [
    "## Newton-Raphson Method\n",
    "\n",
    "This is an iterative numerical technique used to find the roots of a real-valued function. It is widely used because of its fast convergence, particularly for well-behaved functions. Consider a continuous function $f(x)$, and we need to find its root, that is, the value $x = r$ such that\n",
    "\n",
    "$f(r) = 0$\n",
    "\n",
    "We with an initial guess, say $x_0$, and refine it iteratively to approach the root $r$. The key idea behind the method comes from the first-order Taylor expansion of $f(x)$ around a point $x_n$\n",
    "\n",
    "$f(x) \\approx f(x_n) + f'(x_n)(x - x_n)$\n",
    "   \n",
    "This is the equation of the tangent to the curve $f(x)$ at $x_n$. To find the next approximation $x_{n+1}$, we set the tangent line equal to zero $f(x_{n+1}) = 0$. Solving for $x_{n+1}$, we get\n",
    "\n",
    "$\\boxed{x_{n+1} = x_n - \\frac{f(x_n)}{f'(x_n)}}$\n",
    "\n",
    "This is then applied repeatedly, starting from an initial guess $x_0$, to generate successive approximations $x_1, x_2, x_3, \\dots$ until the difference between successive approximations becomes small enough (i.e., convergence is achieved).\n",
    "\n",
    "However, convergence will fail when:\n",
    "1. The function is not differentiable at the root,\n",
    "2. The initial guess is too far from the true root, or\n",
    "3. The derivative $f'(x_n)$ is zero or very small (leading to division by zero or instability).\n",
    "\n",
    "This is very similar to the cobweb diagram method."
   ]
  },
  {
   "cell_type": "code",
   "execution_count": 7,
   "id": "19b1ac68-67b4-4e0b-85ae-20b2542b73d7",
   "metadata": {},
   "outputs": [],
   "source": [
    "def f(x):\n",
    "    return x**3 - 1\n",
    "\n",
    "def df(x):\n",
    "    return 3*x**2"
   ]
  },
  {
   "cell_type": "code",
   "execution_count": 8,
   "id": "9b8e6082-096e-45bd-b710-a9a8c31fe48a",
   "metadata": {},
   "outputs": [],
   "source": [
    "def nr_real(x, tol = 0.0001):\n",
    "    h = f(x)/df(x)\n",
    "    while abs(h) >= tol:\n",
    "        h = f(x)/df(x)\n",
    "        x -= h\n",
    "    return x"
   ]
  },
  {
   "cell_type": "code",
   "execution_count": 9,
   "id": "f7c56ee5-450b-460c-9cf8-e8ed1aebab26",
   "metadata": {},
   "outputs": [
    {
     "name": "stdin",
     "output_type": "stream",
     "text": [
      "Enter initial guess x_0:  0.5\n"
     ]
    },
    {
     "name": "stdout",
     "output_type": "stream",
     "text": [
      "1.0000000000060312\n"
     ]
    }
   ],
   "source": [
    "x_0 = float(input('Enter initial guess x_0: '))\n",
    "print(nr_real(x_0))"
   ]
  }
 ],
 "metadata": {
  "kernelspec": {
   "display_name": "Python 3 (ipykernel)",
   "language": "python",
   "name": "python3"
  },
  "language_info": {
   "codemirror_mode": {
    "name": "ipython",
    "version": 3
   },
   "file_extension": ".py",
   "mimetype": "text/x-python",
   "name": "python",
   "nbconvert_exporter": "python",
   "pygments_lexer": "ipython3",
   "version": "3.12.8"
  }
 },
 "nbformat": 4,
 "nbformat_minor": 5
}
