{
 "cells": [
  {
   "cell_type": "markdown",
   "id": "da2e4d42",
   "metadata": {},
   "source": [
    "# Lecture 12 (Continued)"
   ]
  },
  {
   "cell_type": "markdown",
   "id": "274d0164",
   "metadata": {},
   "source": [
    "## Adaptive Integration using Recursion\n",
    "\n",
    "The adaptive trapezoidal rule is a numerical method used to approximate definite integrals, particularly useful when dealing with functions that change rapidly or have singularities. Unlike the standard trapezoidal rule, which divides the integration interval into equal parts, the adaptive version recursively subdivides the interval, allocating more subdivisions where the function exhibits greater variability. The process begins by estimating the integral over the entire interval. If the estimated error exceeds a predefined tolerance, the interval is split at the midpoint, and the method is applied recursively to each subinterval. This approach ensures finer partitions in regions where the function changes rapidly, leading to more accurate integral approximations. When dealing with functions that have singularities, for example, e.g. $1/\\sqrt{x}$ at $x = 0$, it's important to avoid evaluating the function at points where it becomes undefined or infinite. In such cases, starting the integration from a small positive value close to the singularity (for example, $10^{-6}$) helps with numerical stabilty."
   ]
  },
  {
   "cell_type": "code",
   "execution_count": 2,
   "id": "01db9d3f",
   "metadata": {},
   "outputs": [],
   "source": [
    "import numpy as np\n",
    "import matplotlib.pyplot as plt"
   ]
  },
  {
   "cell_type": "code",
   "execution_count": 4,
   "id": "df2ff2a6",
   "metadata": {},
   "outputs": [],
   "source": [
    "def func(x):\n",
    "    return 1/np.sqrt(x)"
   ]
  },
  {
   "cell_type": "code",
   "execution_count": 7,
   "id": "f59a13f2",
   "metadata": {},
   "outputs": [],
   "source": [
    "def adaptive_trapezoid(func, a, b, tol):\n",
    "    mid = (a + b)/2 # midpoint\n",
    "    fa, fm, fb = func(a), func(mid), func(b)\n",
    "    \n",
    "    I1 = (b - a)/2 * (fa + fb) # we are finding the trapezoidal estimate over the entire interval [a, b]\n",
    "    I2 = (mid - a)/2 * (fa + fm) + (b - mid)/2 * (fm + fb) # computing the trapezoidal estimates over the two subintervals [a, mid] and [mid, b]\n",
    "    \n",
    "    if abs(I2 - I1) < tol:\n",
    "        return I2  # if the estimates are sufficiently close, we accept it\n",
    "    else:\n",
    "        return adaptive_trapezoid(func, a, mid, tol/2) + adaptive_trapezoid(func, mid, b, tol/2)"
   ]
  },
  {
   "cell_type": "code",
   "execution_count": 8,
   "id": "e0471b59",
   "metadata": {},
   "outputs": [
    {
     "name": "stdout",
     "output_type": "stream",
     "text": [
      "I = 4.339607709017281\n"
     ]
    }
   ],
   "source": [
    "result = adaptive_trapezoid(func, 1e-6, 3*np.pi/2, 1e-6)\n",
    "print('I =', result)"
   ]
  }
 ],
 "metadata": {
  "kernelspec": {
   "display_name": "base",
   "language": "python",
   "name": "python3"
  },
  "language_info": {
   "codemirror_mode": {
    "name": "ipython",
    "version": 3
   },
   "file_extension": ".py",
   "mimetype": "text/x-python",
   "name": "python",
   "nbconvert_exporter": "python",
   "pygments_lexer": "ipython3",
   "version": "3.12.8"
  }
 },
 "nbformat": 4,
 "nbformat_minor": 5
}
